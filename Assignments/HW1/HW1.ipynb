{
 "cells": [
  {
   "cell_type": "markdown",
   "metadata": {},
   "source": [
    "### Q1.) Read the DataSet"
   ]
  },
  {
   "cell_type": "code",
   "execution_count": null,
   "metadata": {},
   "outputs": [],
   "source": [
    "import pandas as pd\n",
    "df = pd.read_csv('iris.data.csv', header=None)\n",
    "df"
   ]
  },
  {
   "cell_type": "markdown",
   "metadata": {},
   "source": [
    "### Q2.) Count the Number of Rows and Columns in the DataSet"
   ]
  },
  {
   "cell_type": "code",
   "execution_count": null,
   "metadata": {},
   "outputs": [],
   "source": [
    "rows = len(df.axes[0])\n",
    "cols = len(df.axes[1])\n",
    "print(\"Number of Rows:\", rows)\n",
    "print(\"Number of Columns:\", cols)"
   ]
  },
  {
   "cell_type": "markdown",
   "metadata": {},
   "source": [
    "### Q3.) Print the Last Column of the DataSet and Find the Distinct Values in the last column"
   ]
  },
  {
   "cell_type": "code",
   "execution_count": null,
   "metadata": {},
   "outputs": [],
   "source": [
    "last_column = df.iloc[: , -1:]\n",
    "print(\"Last Column Of Dataset: \")\n",
    "print(last_column)\n",
    "uniquevalues = df[4].unique()\n",
    "print('Unique Values in the last column are:', uniquevalues)"
   ]
  },
  {
   "cell_type": "markdown",
   "metadata": {},
   "source": [
    "### Q4.) Find the Average, Maximum, Minimum Values of the First, Second, and Third Columns"
   ]
  },
  {
   "cell_type": "code",
   "execution_count": null,
   "metadata": {},
   "outputs": [],
   "source": [
    "df_s=df[df[4]=='Iris-setosa']\n",
    "number_of_rows = df_s[4].shape[0]\n",
    "print(\"Number of Rows:\", number_of_rows)\n",
    "Avg = df_s[0].mean()\n",
    "print(\"Average value of the first column: \", Avg)\n",
    "Max = df_s[1].max()\n",
    "print(\"Maximum value of the second column: \", Max)\n",
    "Min = df_s[2].min()\n",
    "print(\"Minimum value of the third column: \", Min)\n",
    "df_s.describe()"
   ]
  },
  {
   "cell_type": "markdown",
   "metadata": {},
   "source": [
    "### Q5.) Scatter Plot of the First and the Second Columns"
   ]
  },
  {
   "cell_type": "code",
   "execution_count": null,
   "metadata": {},
   "outputs": [],
   "source": [
    "import matplotlib.pyplot as plt\n",
    "fig = plt.figure()\n",
    "ax = fig.add_subplot(111)\n",
    "df_v=df[df[4]=='Iris-versicolor']\n",
    "df_vg=df[df[4]=='Iris-virginica']\n",
    "ax.scatter(x=df_s[0], y=df_s[1], c ='r', s = 50, marker='s')\n",
    "ax.scatter(x=df_v[0], y=df_v[1], c ='b', s = 50, marker='o')\n",
    "ax.scatter(x=df_vg[0], y=df_vg[1], c ='g', s = 50, marker='*')\n",
    "plt.title( \"Scatter Plot Between First and Second columns\")\n",
    "plt.show()"
   ]
  }
 ],
 "metadata": {
  "interpreter": {
   "hash": "ac59ebe37160ed0dfa835113d9b8498d9f09ceb179beaac4002f036b9467c963"
  },
  "kernelspec": {
   "display_name": "Python 3",
   "language": "python",
   "name": "python3"
  },
  "language_info": {
   "codemirror_mode": {
    "name": "ipython",
    "version": 3
   },
   "file_extension": ".py",
   "mimetype": "text/x-python",
   "name": "python",
   "nbconvert_exporter": "python",
   "pygments_lexer": "ipython3",
   "version": "3.9.7"
  }
 },
 "nbformat": 4,
 "nbformat_minor": 2
}
